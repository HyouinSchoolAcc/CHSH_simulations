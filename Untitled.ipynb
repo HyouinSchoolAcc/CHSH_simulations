{
 "cells": [
  {
   "cell_type": "code",
   "execution_count": 341,
   "id": "3b7a8bc0",
   "metadata": {},
   "outputs": [],
   "source": [
    "import numpy as np"
   ]
  },
  {
   "cell_type": "code",
   "execution_count": 345,
   "id": "28159a47",
   "metadata": {},
   "outputs": [
    {
     "name": "stdout",
     "output_type": "stream",
     "text": [
      "[0.11111111 0.22222222 0.33333333 0.33333333]\n"
     ]
    }
   ],
   "source": [
    "random_numbers = np.random.rand(4)\n",
    "eiganvalues1=random_numbers/sum(random_numbers)\n",
    "a = np.diag(np.dot(np.dot((1,2,3,3),(0.5,0.5,0.5,0.5)),np.array((1,2,3,3)).T))\n",
    "a1=a/(sum(np.linalg.eigvals(a)))\n",
    "print (np.linalg.eigvals(a1))"
   ]
  },
  {
   "cell_type": "code",
   "execution_count": 346,
   "id": "84245be8",
   "metadata": {},
   "outputs": [
    {
     "name": "stdout",
     "output_type": "stream",
     "text": [
      "[0.72+0.j 0.21-0.j 0.06+0.j 0.01+0.j]\n",
      "[[0.35+0.j   0.12+0.j   0.14+0.1j  0.13-0.02j]\n",
      " [0.12-0.j   0.17-0.j   0.17+0.06j 0.13+0.j  ]\n",
      " [0.14-0.1j  0.17-0.06j 0.26-0.j   0.18-0.04j]\n",
      " [0.13+0.02j 0.13-0.j   0.18+0.04j 0.23-0.j  ]]\n"
     ]
    }
   ],
   "source": [
    "\n",
    "\n",
    "def generate_psd_matrix_with_eigenvalues():\n",
    "    random_numbers = np.random.rand(4)\n",
    "    eigenvalues1=random_numbers/sum(random_numbers)\n",
    "    #eigenvalues1 = (0.3,0.3,0.2,0.2)\n",
    "    n = 4\n",
    "    # Generate random complex eigenvectors\n",
    "    eigenvectors1 = np.random.rand(n, n) + 1j * np.random.rand(n, n)\n",
    "\n",
    "    # Construct the PSD matrix using eigendecomposition\n",
    "    hermitian_matrix1 = np.dot(eigenvectors1, np.diag(eigenvalues1))\n",
    "    pre_processed_matrix  = np.dot(hermitian_matrix1, np.transpose(np.conjugate(eigenvectors1)))\n",
    "    \n",
    "    matrix = pre_processed_matrix/sum(np.linalg.eigvals(pre_processed_matrix))\n",
    "    return (matrix)\n",
    "\n",
    "matrix = generate_psd_matrix_with_eigenvalues()\n",
    "print (np.round(np.linalg.eigvals(matrix),decimals=2))\n",
    "print (np.round(matrix, decimals=2))"
   ]
  },
  {
   "cell_type": "code",
   "execution_count": 347,
   "id": "e372f2ff",
   "metadata": {},
   "outputs": [],
   "source": [
    "sigma_x = np.array([[0, 1], [1, 0]])\n",
    "sigma_y = np.array([[0, -1j], [1j, 0]])\n",
    "sigma_z = np.array([[1, 0], [0, -1]])\n",
    "identity = np.eye(2)\n",
    "T_11=np.kron(sigma_x, sigma_x)\n",
    "T_12=np.kron(sigma_x, sigma_y)\n",
    "T_13=np.kron(sigma_x, sigma_z)\n",
    "T_21=np.kron(sigma_y, sigma_x)\n",
    "T_22=np.kron(sigma_y, sigma_y)\n",
    "T_23=np.kron(sigma_y, sigma_z)\n",
    "T_31=np.kron(sigma_z, sigma_x)\n",
    "T_32=np.kron(sigma_z, sigma_y)\n",
    "T_33=np.kron(sigma_z, sigma_z)\n",
    "T = np.zeros((3, 3), dtype=np.complex128)\n",
    "T[0,0]=np.trace(np.dot(np.array(T_11),np.array(matrix)))\n",
    "T[0,1]=np.trace(np.dot(np.array(T_12),np.array(matrix)))\n",
    "T[0,2]=np.trace(np.dot(np.array(T_13),np.array(matrix)))\n",
    "T[1,0]=np.trace(np.dot(np.array(T_21),np.array(matrix)))\n",
    "T[1,1]=np.trace(np.dot(np.array(T_22),np.array(matrix)))\n",
    "T[1,2]=np.trace(np.dot(np.array(T_23),np.array(matrix)))\n",
    "T[2,0]=np.trace(np.dot(np.array(T_31),np.array(matrix)))\n",
    "T[2,1]=np.trace(np.dot(np.array(T_32),np.array(matrix)))\n",
    "T[2,2]=np.trace(np.dot(np.array(T_33),np.array(matrix)))"
   ]
  },
  {
   "cell_type": "code",
   "execution_count": 348,
   "id": "7cd32519",
   "metadata": {},
   "outputs": [
    {
     "name": "stdout",
     "output_type": "stream",
     "text": [
      "[[ 0.6 -0.j  0.17-0.j  0.02+0.j]\n",
      " [-0.07-0.j  0.1 -0.j -0.18-0.j]\n",
      " [-0.12+0.j -0.07+0.j  0.15+0.j]]\n"
     ]
    }
   ],
   "source": [
    "print (np.round(T, decimals=2))"
   ]
  },
  {
   "cell_type": "code",
   "execution_count": 354,
   "id": "a7ac10df",
   "metadata": {},
   "outputs": [
    {
     "name": "stdout",
     "output_type": "stream",
     "text": [
      "[2. 2. 2.]\n"
     ]
    }
   ],
   "source": [
    "matrix = (1/np.sqrt(2))*np.array([[1.0,0,0,1.0],[0,0,0,0],[0,0,0,0],[1.0,0,0,1]])\n",
    "T = np.zeros((3, 3), dtype=np.complex128)\n",
    "T[0,0]=np.trace(np.dot(np.array(T_11),np.array(matrix)))\n",
    "T[0,1]=np.trace(np.dot(np.array(T_12),np.array(matrix)))\n",
    "T[0,2]=np.trace(np.dot(np.array(T_13),np.array(matrix)))\n",
    "T[1,0]=np.trace(np.dot(np.array(T_21),np.array(matrix)))\n",
    "T[1,1]=np.trace(np.dot(np.array(T_22),np.array(matrix)))\n",
    "T[1,2]=np.trace(np.dot(np.array(T_23),np.array(matrix)))\n",
    "T[2,0]=np.trace(np.dot(np.array(T_31),np.array(matrix)))\n",
    "T[2,1]=np.trace(np.dot(np.array(T_32),np.array(matrix)))\n",
    "T[2,2]=np.trace(np.dot(np.array(T_33),np.array(matrix)))\n",
    "U, s, Vt = np.linalg.svd(T)\n",
    "\n",
    "# Calculate the eigenvalues\n",
    "eigenvalues = s ** 2 \n",
    "print(eigenvalues)"
   ]
  },
  {
   "cell_type": "code",
   "execution_count": 356,
   "id": "671d0a13",
   "metadata": {},
   "outputs": [
    {
     "name": "stdout",
     "output_type": "stream",
     "text": [
      "[1. 1. 1.]\n"
     ]
    }
   ],
   "source": [
    "matrix = (1/2)*np.array([[1.0,0,0,1.0],[0,0,0,0],[0,0,0,0],[1.0,0,0,1]])\n",
    "T = np.zeros((3, 3), dtype=np.complex128)\n",
    "T[0,0]=np.trace(np.dot(np.array(T_11),np.array(matrix)))\n",
    "T[0,1]=np.trace(np.dot(np.array(T_12),np.array(matrix)))\n",
    "T[0,2]=np.trace(np.dot(np.array(T_13),np.array(matrix)))\n",
    "T[1,0]=np.trace(np.dot(np.array(T_21),np.array(matrix)))\n",
    "T[1,1]=np.trace(np.dot(np.array(T_22),np.array(matrix)))\n",
    "T[1,2]=np.trace(np.dot(np.array(T_23),np.array(matrix)))\n",
    "T[2,0]=np.trace(np.dot(np.array(T_31),np.array(matrix)))\n",
    "T[2,1]=np.trace(np.dot(np.array(T_32),np.array(matrix)))\n",
    "T[2,2]=np.trace(np.dot(np.array(T_33),np.array(matrix)))\n",
    "U, s, Vt = np.linalg.svd(T)\n",
    "\n",
    "# Calculate the eigenvalues\n",
    "eigenvalues = s ** 2 \n",
    "print(eigenvalues)"
   ]
  },
  {
   "cell_type": "code",
   "execution_count": 353,
   "id": "17c8d37e",
   "metadata": {},
   "outputs": [
    {
     "name": "stdout",
     "output_type": "stream",
     "text": [
      "[0.80345538 0.01802967 0.00303775]\n"
     ]
    }
   ],
   "source": [
    "matrix = generate_psd_matrix_with_eigenvalues()\n",
    "T = np.zeros((3, 3), dtype=np.complex128)\n",
    "T[0,0]=np.trace(np.dot(np.array(T_11),np.array(matrix)))\n",
    "T[0,1]=np.trace(np.dot(np.array(T_12),np.array(matrix)))\n",
    "T[0,2]=np.trace(np.dot(np.array(T_13),np.array(matrix)))\n",
    "T[1,0]=np.trace(np.dot(np.array(T_21),np.array(matrix)))\n",
    "T[1,1]=np.trace(np.dot(np.array(T_22),np.array(matrix)))\n",
    "T[1,2]=np.trace(np.dot(np.array(T_23),np.array(matrix)))\n",
    "T[2,0]=np.trace(np.dot(np.array(T_31),np.array(matrix)))\n",
    "T[2,1]=np.trace(np.dot(np.array(T_32),np.array(matrix)))\n",
    "T[2,2]=np.trace(np.dot(np.array(T_33),np.array(matrix)))\n",
    "U, s, Vt = np.linalg.svd(T)\n",
    "\n",
    "# Calculate the eigenvalues\n",
    "eigenvalues = s ** 2 \n",
    "print(eigenvalues)"
   ]
  },
  {
   "cell_type": "code",
   "execution_count": null,
   "id": "790bb67c",
   "metadata": {},
   "outputs": [],
   "source": []
  },
  {
   "cell_type": "code",
   "execution_count": null,
   "id": "adee1f65",
   "metadata": {},
   "outputs": [],
   "source": []
  }
 ],
 "metadata": {
  "kernelspec": {
   "display_name": "Python 3",
   "language": "python",
   "name": "python3"
  },
  "language_info": {
   "codemirror_mode": {
    "name": "ipython",
    "version": 3
   },
   "file_extension": ".py",
   "mimetype": "text/x-python",
   "name": "python",
   "nbconvert_exporter": "python",
   "pygments_lexer": "ipython3",
   "version": "3.8.8"
  }
 },
 "nbformat": 4,
 "nbformat_minor": 5
}
